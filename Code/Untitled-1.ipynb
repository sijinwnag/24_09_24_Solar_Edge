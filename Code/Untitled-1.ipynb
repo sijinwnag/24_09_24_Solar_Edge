{
 "cells": [
  {
   "cell_type": "markdown",
   "id": "54770832",
   "metadata": {},
   "source": [
    "# A Jupyter notebook for running a Python script that loops through each season for all sites in the data folder\n",
    "\n",
    "This notebook automates the process of running a script for each season and each site found in the data folder."
   ]
  },
  {
   "cell_type": "markdown",
   "id": "ab484668",
   "metadata": {},
   "source": [
    "## Import Required Libraries\n",
    "\n",
    "Import os, glob, pandas, and any other necessary libraries for file handling and data processing."
   ]
  },
  {
   "cell_type": "code",
   "execution_count": null,
   "id": "a9d767ec",
   "metadata": {},
   "outputs": [],
   "source": [
    "import os\n",
    "import glob\n",
    "import pandas as pd"
   ]
  },
  {
   "cell_type": "markdown",
   "id": "334eba23",
   "metadata": {},
   "source": [
    "## Load Site Data from Data Folder\n",
    "\n",
    "Use glob or os.listdir to find all site data files in the data folder and load them into pandas DataFrames."
   ]
  },
  {
   "cell_type": "code",
   "execution_count": null,
   "id": "3194ab3e",
   "metadata": {},
   "outputs": [],
   "source": [
    "# Define the path to the data folder\n",
    "data_folder = os.path.join(os.getcwd(), \"data\")\n",
    "\n",
    "# Find all CSV files in the data folder (assuming site data is in CSV format)\n",
    "site_files = glob.glob(os.path.join(data_folder, \"*.csv\"))\n",
    "\n",
    "# Load each site file into a dictionary of DataFrames\n",
    "site_data = {}\n",
    "for file_path in site_files:\n",
    "    site_name = os.path.splitext(os.path.basename(file_path))[0]\n",
    "    site_data[site_name] = pd.read_csv(file_path)\n",
    "    \n",
    "print(f\"Loaded data for sites: {list(site_data.keys())}\")"
   ]
  },
  {
   "cell_type": "markdown",
   "id": "bc1200d2",
   "metadata": {},
   "source": [
    "## Define Seasons and Loop Structure\n",
    "\n",
    "Define a list of seasons (e.g., ['spring', 'summer', 'autumn', 'winter']) and set up nested loops to iterate through each site and each season."
   ]
  },
  {
   "cell_type": "code",
   "execution_count": null,
   "id": "4e92b895",
   "metadata": {},
   "outputs": [],
   "source": [
    "# Define seasons\n",
    "seasons = ['spring', 'summer', 'autumn', 'winter']\n",
    "\n",
    "# Example: Define date ranges for each season (assuming southern hemisphere)\n",
    "season_ranges = {\n",
    "    'spring':  (('09-01', '11-30')),\n",
    "    'summer':  (('12-01', '02-28')),\n",
    "    'autumn':  (('03-01', '05-31')),\n",
    "    'winter':  (('06-01', '08-31')),\n",
    "}"
   ]
  },
  {
   "cell_type": "markdown",
   "id": "02c55bca",
   "metadata": {},
   "source": [
    "## Run Notebook Logic for Each Site and Season\n",
    "\n",
    "Within the loop, apply the notebook's main analysis or processing logic for each site and season combination."
   ]
  },
  {
   "cell_type": "code",
   "execution_count": null,
   "id": "626a27ed",
   "metadata": {},
   "outputs": [],
   "source": [
    "results = []\n",
    "\n",
    "for site, df in site_data.items():\n",
    "    # Ensure the DataFrame has a datetime column named 'timestamp'\n",
    "    df['timestamp'] = pd.to_datetime(df['timestamp'])\n",
    "    df['month-day'] = df['timestamp'].dt.strftime('%m-%d')\n",
    "    \n",
    "    for season, (start, end) in season_ranges.items():\n",
    "        # Handle year wrap for summer\n",
    "        if start > end:\n",
    "            mask = (df['month-day'] >= start) | (df['month-day'] <= end)\n",
    "        else:\n",
    "            mask = (df['month-day'] >= start) & (df['month-day'] <= end)\n",
    "        season_df = df[mask]\n",
    "        \n",
    "        # Example analysis: Calculate mean of a column (replace 'value' with actual column)\n",
    "        if 'value' in season_df.columns:\n",
    "            mean_value = season_df['value'].mean()\n",
    "        else:\n",
    "            mean_value = None\n",
    "        \n",
    "        results.append({\n",
    "            'site': site,\n",
    "            'season': season,\n",
    "            'mean_value': mean_value,\n",
    "            'num_records': len(season_df)\n",
    "        })"
   ]
  },
  {
   "cell_type": "markdown",
   "id": "80100c1e",
   "metadata": {},
   "source": [
    "## Save or Output Results\n",
    "\n",
    "Save the results for each site and season to output files or display them as needed."
   ]
  },
  {
   "cell_type": "code",
   "execution_count": null,
   "id": "1cadc655",
   "metadata": {},
   "outputs": [],
   "source": [
    "# Convert results to DataFrame and save as CSV\n",
    "results_df = pd.DataFrame(results)\n",
    "output_path = os.path.join(os.getcwd(), \"seasonal_site_results.csv\")\n",
    "results_df.to_csv(output_path, index=False)\n",
    "\n",
    "# Display the results\n",
    "results_df"
   ]
  }
 ],
 "metadata": {
  "language_info": {
   "name": "python"
  }
 },
 "nbformat": 4,
 "nbformat_minor": 5
}
